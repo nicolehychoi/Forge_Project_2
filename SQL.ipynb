{
 "cells": [
  {
   "cell_type": "code",
   "execution_count": null,
   "id": "d4e81840",
   "metadata": {},
   "outputs": [],
   "source": [
    "import pymysql\n",
    "from sqlalchemy import create_engine\n",
    "import pandas as pd\n",
    "from dotenv import load_dotenv\n",
    "from urllib.parse import quote\n",
    "import os"
   ]
  },
  {
   "cell_type": "code",
   "execution_count": 3,
   "id": "6f13ea2a",
   "metadata": {},
   "outputs": [],
   "source": [
    "load_dotenv(dotenv_path=\"password.env\")\n",
    "\n",
    "host=os.getenv(\"host\")\n",
    "port=3306\n",
    "user=os.getenv(\"user\")\n",
    "database=os.getenv(\"name\")\n",
    "password=os.getenv(\"password\")\n",
    "password_embedded = quote(password)\n",
    "\n",
    "conn = pymysql.connect(\n",
    "    host=host,\n",
    "    port=3306,\n",
    "    user=user,\n",
    "    database=database,\n",
    "    password=password)\n",
    "\n",
    "# Connecting to SQL\n",
    "\n",
    "connection = create_engine(f\"mysql+pymysql://{user}:{password_embedded}@{host}:{port}/{database}\")"
   ]
  },
  {
   "cell_type": "code",
   "execution_count": 10,
   "id": "48e1b1ce",
   "metadata": {},
   "outputs": [],
   "source": [
    "inventory = pd.read_csv('inventory.csv')\n",
    "books = pd.read_csv('books.csv')\n",
    "authors = pd.read_csv('authors.csv')\n",
    "patrons = pd.read_csv('patrons.csv')\n",
    "loans = pd.read_csv('loans.csv')\n",
    "books['isbn'] = books['isbn'].astype(str)\n",
    "authors['author_id'] = authors['author_id'].astype('int64')\n",
    "books['author_id'] = books['author_id'].astype('int64')"
   ]
  },
  {
   "cell_type": "code",
   "execution_count": null,
   "id": "21faa958",
   "metadata": {},
   "outputs": [
    {
     "data": {
      "text/plain": [
       "31"
      ]
     },
     "execution_count": 11,
     "metadata": {},
     "output_type": "execute_result"
    }
   ],
   "source": [
    "inventory.to_sql(name=\"inventory\", con=connection, if_exists='replace', index=False)\n",
    "books.to_sql(name=\"books\", con=connection, if_exists='replace', index=False)\n",
    "authors.to_sql(name=\"authors\", con=connection, if_exists='replace', index=False)\n",
    "patrons.to_sql(name=\"patrons\", con=connection, if_exists='replace', index=False)\n",
    "loans.to_sql(name=\"loans\", con=connection, if_exists='replace', index=False)"
   ]
  }
 ],
 "metadata": {
  "kernelspec": {
   "display_name": "base",
   "language": "python",
   "name": "python3"
  },
  "language_info": {
   "codemirror_mode": {
    "name": "ipython",
    "version": 3
   },
   "file_extension": ".py",
   "mimetype": "text/x-python",
   "name": "python",
   "nbconvert_exporter": "python",
   "pygments_lexer": "ipython3",
   "version": "3.12.7"
  }
 },
 "nbformat": 4,
 "nbformat_minor": 5
}
