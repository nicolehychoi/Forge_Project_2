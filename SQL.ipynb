{
 "cells": [
  {
   "cell_type": "code",
   "execution_count": null,
   "id": "d4e81840",
   "metadata": {},
   "outputs": [],
   "source": [
    "import pymysql\n",
    "from sqlalchemy import create_engine\n",
    "import pandas as pd\n",
    "from dotenv import load_dotenv\n",
    "from urllib.parse import quote\n",
    "import os"
   ]
  },
  {
   "cell_type": "code",
   "execution_count": 2,
   "id": "6f13ea2a",
   "metadata": {},
   "outputs": [],
   "source": [
    "load_dotenv(dotenv_path=\"password.env\")\n",
    "\n",
    "host=os.getenv(\"host\")\n",
    "port=3306\n",
    "user=os.getenv(\"user\")\n",
    "database=os.getenv(\"name\")\n",
    "password=os.getenv(\"password\")\n",
    "password_embedded = quote(password)\n",
    "password_embedded = quote(password)  \n",
    "\n",
    "conn = pymysql.connect(\n",
    "    host=host,\n",
    "    port=3306,\n",
    "    user=user,\n",
    "    database=database,\n",
    "    password=password)\n",
    "\n",
    "# Connecting to SQL\n",
    "\n",
    "connection = create_engine(f\"mysql+pymysql://{user}:{password_embedded}@{host}:{port}/{database}\")"
   ]
  },
  {
   "cell_type": "code",
   "execution_count": 4,
   "id": "48e1b1ce",
   "metadata": {},
   "outputs": [],
   "source": [
    "# Reading in CSVs\n",
    "\n",
    "inventory = pd.read_csv('inventory.csv')\n",
    "books = pd.read_csv('books.csv')\n",
    "authors = pd.read_csv('authors.csv')\n",
    "patrons = pd.read_csv('patrons.csv')\n",
    "loans = pd.read_csv('loans.csv')\n",
    "books['isbn'] = books['isbn'].astype(str)\n",
    "authors['author_id'] = authors['author_id'].astype('int64')\n",
    "books['author_id'] = books['author_id'].astype('int64')"
   ]
  },
  {
   "cell_type": "code",
   "execution_count": 5,
   "id": "b73b9eb7",
   "metadata": {},
   "outputs": [
    {
     "data": {
      "text/plain": [
       "50"
      ]
     },
     "execution_count": 5,
     "metadata": {},
     "output_type": "execute_result"
    }
   ],
   "source": [
    "# To SQL\n",
    "\n",
    "inventory.to_sql(name=\"inventory\", con=connection, if_exists='replace', index=False)\n",
    "books.to_sql(name=\"books\", con=connection, if_exists='replace', index=False)\n",
    "authors.to_sql(name=\"authors\", con=connection, if_exists='replace', index=False)\n",
    "patrons.to_sql(name=\"patrons\", con=connection, if_exists='replace', index=False)\n",
    "loans.to_sql(name=\"loans\", con=connection, if_exists='replace', index=False)"
   ]
  },
  {
   "cell_type": "code",
   "execution_count": 1,
   "id": "250e21c5",
   "metadata": {},
   "outputs": [],
   "source": [
    "#Queries\n",
    "\n",
    "query1 = \"SELECT DISTINCT(Books.Title), Books.pub_year FROM Inventory JOIN Books ON Inventory.ISBN = Books.ISBN ORDER BY Books.pub_year LIMIT 5;\"\n",
    "query2 = \"SELECT Books.Title AS Title, COUNT(Inventory.isbn) AS Count FROM Inventory LEFT JOIN Books ON Inventory.isbn = Books.isbn GROUP BY Books.Title;\"\n",
    "query3 = \"SELECT Books.Title AS Title, COUNT(Inventory.ISBN) AS Count FROM Inventory LEFT JOIN Books ON Inventory.ISBN = Books.ISBN LEFT JOIN Loans ON Inventory.book_id = Loans.book_id WHERE Loans.return_date IS NULL GROUP BY Books.Title;\"\n",
    "query4 = \"SELECT Books.Genre AS Genre, COUNT(Inventory.ISBN) AS Book_Count FROM Inventory LEFT JOIN Books ON Inventory.ISBN = Books.ISBN GROUP BY Books.Genre;\"\n",
    "query5 = \"SELECT Books.Genre AS Genre, COUNT(DISTINCT(Books.ISBN)) AS Title_Count FROM Inventory LEFT JOIN Books ON Inventory.ISBN = Books.ISBN GROUP BY Books.Genre;\"\n",
    "query6 = \"SELECT Authors.language, COUNT(*) AS number FROM Inventory JOIN Books ON Inventory.isbn = Books.isbn JOIN Authors ON Authors.author_id = Books.author_id GROUP BY Authors.language ORDER BY number;\"\n",
    "query7 = \"SELECT `condition`, COUNT(*) FROM Inventory GROUP BY `condition`;\"\n",
    "query8 = \"SELECT Books.title, MAX(CASE WHEN Inventory.Condition = 'As New' OR Inventory.Condition = 'good' THEN 1 ELSE 0 END) AS has_new_book FROM Books JOIN Inventory ON Books.ISBN = Inventory.ISBN GROUP BY Books.title;\"\n",
    "query9 = \"SELECT CONCAT(Authors.first_name, ' ', Authors.last_name) AS full_name, COUNT(*) AS number_of_books FROM Inventory JOIN Books ON Inventory.isbn = Books.isbn JOIN authors ON books.author_id = Authors.author_id GROUP BY full_name;\"\n",
    "query10 = \"SELECT Books.Title, COUNT(*) AS loan_count FROM Inventory JOIN Books ON Inventory.isbn = Books.isbn JOIN Loans ON Inventory.book_id = Loans.book_id GROUP BY Books.Title ORDER BY loan_count;\""
   ]
  }
 ],
 "metadata": {
  "kernelspec": {
   "display_name": "base",
   "language": "python",
   "name": "python3"
  },
  "language_info": {
   "codemirror_mode": {
    "name": "ipython",
    "version": 3
   },
   "file_extension": ".py",
   "mimetype": "text/x-python",
   "name": "python",
   "nbconvert_exporter": "python",
   "pygments_lexer": "ipython3",
   "version": "3.12.7"
  }
 },
 "nbformat": 4,
 "nbformat_minor": 5
}
