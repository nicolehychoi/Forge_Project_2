{
 "cells": [
  {
   "cell_type": "code",
   "execution_count": 2,
   "id": "a2afec9c",
   "metadata": {},
   "outputs": [],
   "source": [
    "import pymongo\n",
    "from pymongo import MongoClient\n",
    "import pandas as pd\n",
    "from dotenv import load_dotenv\n",
    "import os\n"
   ]
  },
  {
   "cell_type": "code",
   "execution_count": null,
   "id": "c6a545fb",
   "metadata": {},
   "outputs": [],
   "source": [
    "load_dotenv(dotenv_path = \"password.env\") \n",
    "\n",
    "# MONGO_URI example: MONGO_URI=mongodb://localhost:27017/\n",
    "\n",
    "mongo_uri = os.getenv(\"mongo_uri\")\n",
    "mongo_database = os.getenv(\"mongo_database\")\n",
    "\n",
    "client = MongoClient(mongo_uri)\n",
    "\n",
    "db = client[mongo_database]"
   ]
  },
  {
   "cell_type": "code",
   "execution_count": null,
   "id": "78482365",
   "metadata": {},
   "outputs": [
    {
     "name": "stdout",
     "output_type": "stream",
     "text": [
      "Forge_Week_2\n"
     ]
    }
   ],
   "source": [
    "patrons_data = pd.read_csv('patrons.csv')\n",
    "inventory = pd.read_csv('inventory.csv')\n",
    "books = pd.read_csv('books.csv')\n",
    "authors = pd.read_csv('authors.csv')\n",
    "loans = pd.read_csv('loans.csv')\n",
    "books['isbn'] = books['isbn'].astype(str)\n",
    "authors['author_id'] = authors['author_id'].astype('int64')\n",
    "books['author_id'] = books['author_id'].astype('int64')\n",
    "patrons_dict = patrons_data.to_dict('records')\n",
    "loans_dict = loans.to_dict('records')\n",
    "\n",
    "for item in patrons_dict:\n",
    "    item['loan_history'] = []\n",
    "    \n",
    "for item in loans_dict:\n",
    "    patron_id = item['patron_ID']\n",
    "    for patron in patrons_dict:\n",
    "        if patron['patron_id'] == patron_id:\n",
    "            patron['loan_history'].append(item)\n",
    "            item.pop(\"patron_ID\")\n",
    "            item.pop(\"loan_ID\")\n",
    "            break \n",
    "\n",
    "for item in patrons_dict:\n",
    "    item.pop('patron_id', None)\n",
    "\n",
    "patrons = db.patrons\n",
    "patrons.insert_many(patrons_dict)\n",
    "patrons_dict\n",
    "print(db.name)\n",
    "\n",
    "# patrons.delete_many({})"
   ]
  }
 ],
 "metadata": {
  "kernelspec": {
   "display_name": "base",
   "language": "python",
   "name": "python3"
  },
  "language_info": {
   "codemirror_mode": {
    "name": "ipython",
    "version": 3
   },
   "file_extension": ".py",
   "mimetype": "text/x-python",
   "name": "python",
   "nbconvert_exporter": "python",
   "pygments_lexer": "ipython3",
   "version": "3.12.7"
  }
 },
 "nbformat": 4,
 "nbformat_minor": 5
}
