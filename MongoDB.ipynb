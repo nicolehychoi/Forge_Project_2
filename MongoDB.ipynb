{
 "cells": [
  {
   "cell_type": "code",
   "execution_count": 2,
   "id": "a2afec9c",
   "metadata": {},
   "outputs": [],
   "source": [
    "import pymongo\n",
    "from pymongo import MongoClient\n",
    "import pandas as pd\n",
    "from dotenv import load_dotenv\n",
    "import os\n"
   ]
  },
  {
   "cell_type": "code",
   "execution_count": 5,
   "id": "c6a545fb",
   "metadata": {},
   "outputs": [],
   "source": [
    "load_dotenv(dotenv_path = \"password.env\") \n",
    "\n",
    "# MONGO_URI example: MONGO_URI = mongodb://localhost:27017/\n",
    "\n",
    "mongo_uri = os.getenv(\"mongo_uri\")\n",
    "mongo_database = os.getenv(\"mongo_database\")\n",
    "\n",
    "client = MongoClient(mongo_uri)\n",
    "\n",
    "db = client.mongo_database"
   ]
  }
 ],
 "metadata": {
  "kernelspec": {
   "display_name": "base",
   "language": "python",
   "name": "python3"
  },
  "language_info": {
   "codemirror_mode": {
    "name": "ipython",
    "version": 3
   },
   "file_extension": ".py",
   "mimetype": "text/x-python",
   "name": "python",
   "nbconvert_exporter": "python",
   "pygments_lexer": "ipython3",
   "version": "3.12.7"
  }
 },
 "nbformat": 4,
 "nbformat_minor": 5
}
