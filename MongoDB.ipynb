{
 "cells": [
  {
   "cell_type": "code",
   "execution_count": 1,
   "id": "a2afec9c",
   "metadata": {},
   "outputs": [],
   "source": [
    "import pymongo\n",
    "from pymongo import MongoClient\n",
    "import pandas as pd\n",
    "from dotenv import load_dotenv\n",
    "import os\n",
    "import pprint\n"
   ]
  },
  {
   "cell_type": "code",
   "execution_count": 6,
   "id": "c6a545fb",
   "metadata": {},
   "outputs": [],
   "source": [
    "load_dotenv(dotenv_path = \"password.env\") \n",
    "\n",
    "# MONGO_URI example: MONGO_URI=mongodb://localhost:27017/\n",
    "\n",
    "mongo_uri = os.getenv(\"mongo_uri\")\n",
    "mongo_database = os.getenv(\"mongo_database\")\n",
    "\n",
    "client = MongoClient(mongo_uri)\n",
    "\n",
    "db = client[mongo_database]"
   ]
  },
  {
   "cell_type": "code",
   "execution_count": 7,
   "id": "78482365",
   "metadata": {},
   "outputs": [
    {
     "data": {
      "text/plain": [
       "{'first_name': 'Chloe',\n",
       " 'last_name': 'Robinson',\n",
       " 'address': '305 Redwood Circle',\n",
       " 'phone_number': '101-010-1010',\n",
       " 'age': 29,\n",
       " 'loan_history': [{'loan_date': '2024-12-27',\n",
       "   'due_date': '2025-01-26',\n",
       "   'return_date': '2025-01-29',\n",
       "   'days_overdue': 3.0,\n",
       "   'book': {'isbn': '9780374528379',\n",
       "    'condition': 'Fair',\n",
       "    'title': 'Interpreter of Maladies',\n",
       "    'pub_year': 1999,\n",
       "    'genre': 'Short Stories',\n",
       "    'overdue_fee_rate': 0.25,\n",
       "    'author': {'author_id': 19,\n",
       "     'first_name': 'Jhumpa',\n",
       "     'last_name': 'Lahiri',\n",
       "     'nationality': 'Indian-American',\n",
       "     'language': 'English',\n",
       "     'birth_year': '1967',\n",
       "     'biography': \"Jhumpa Lahiri won the Pulitzer Prize for 'Interpreter of Maladies'.\"}}},\n",
       "  {'loan_date': '2025-05-22',\n",
       "   'due_date': '2025-06-21',\n",
       "   'return_date': nan,\n",
       "   'days_overdue': nan,\n",
       "   'book': {'isbn': '9780812981602',\n",
       "    'condition': 'Fair',\n",
       "    'title': 'The Vegetarian',\n",
       "    'pub_year': 2007,\n",
       "    'genre': 'Literary Fiction',\n",
       "    'overdue_fee_rate': 0.5,\n",
       "    'author': {'author_id': 29,\n",
       "     'first_name': 'Han',\n",
       "     'last_name': 'Kang',\n",
       "     'nationality': 'South Korean',\n",
       "     'language': 'Korean',\n",
       "     'birth_year': '1970',\n",
       "     'biography': \"Han Kang wrote 'The Vegetarian,' which won the Man Booker International Prize.\"}}}],\n",
       " 'total_fees_owed': 0.75}"
      ]
     },
     "execution_count": 7,
     "metadata": {},
     "output_type": "execute_result"
    }
   ],
   "source": [
    "# Loading in csv data\n",
    "patrons_data = pd.read_csv('patrons.csv')\n",
    "inventory = pd.read_csv('inventory.csv')\n",
    "books = pd.read_csv('books.csv')\n",
    "authors = pd.read_csv('authors.csv')\n",
    "loans = pd.read_csv('loans.csv')\n",
    "books['isbn'] = books['isbn'].astype(str)\n",
    "inventory['isbn'] = inventory['isbn'].astype(str)\n",
    "authors['author_id'] = authors['author_id'].astype('int64')\n",
    "books['author_id'] = books['author_id'].astype('int64')\n",
    "\n",
    "\n",
    "# Converting to dictionaries\n",
    "patrons_dict = patrons_data.to_dict('records')\n",
    "loans_dict = loans.to_dict('records')\n",
    "books_dict = books.to_dict('records')\n",
    "inventory_dict = inventory.to_dict('records')\n",
    "authors_dict = authors.to_dict('records')\n",
    "\n",
    "# Adding authors as a subset of books\n",
    "for item in books_dict:\n",
    "    item['author'] = {}\n",
    "for item in authors_dict:\n",
    "    author_id = item['author_id']\n",
    "    for book in books_dict:\n",
    "        if book['author_id'] == author_id:\n",
    "            book['author'] = item\n",
    "\n",
    "# Merging books' meta data with inventoried books\n",
    "for item in books_dict:\n",
    "    isbn = item['isbn']\n",
    "    for book in inventory_dict:\n",
    "        if book['isbn'] == isbn:\n",
    "            book['title'] = item['title']\n",
    "            book['pub_year'] = item['pub_year']\n",
    "            book['genre'] = item['genre']\n",
    "            book['overdue_fee_rate'] = item['overdue_fee_rate']\n",
    "            book['author'] = item['author']\n",
    "\n",
    "# Adding inventories books as a subset of loans\n",
    "for item in loans_dict:\n",
    "    item['book'] = {}\n",
    "for item in inventory_dict:\n",
    "    book_id = item['book_id']\n",
    "    for loan in loans_dict:\n",
    "        if loan['book_id'] == book_id:\n",
    "            loan['book'] = item\n",
    "    item.pop('book_id')\n",
    "\n",
    "# Inserting total overdue fees per patron\n",
    "for patron in patrons_dict:\n",
    "    patron['loan_history'] = []\n",
    "    patron['total_fees_owed'] = 0\n",
    "    for item in loans_dict:\n",
    "        days = item['days_overdue']\n",
    "        if pd.isna(days):\n",
    "            days = 0\n",
    "        rate = item['book']['overdue_fee_rate']\n",
    "        fee = rate * days\n",
    "        if item['patron_id'] == patron['patron_id']:\n",
    "            patron['total_fees_owed'] += fee\n",
    "\n",
    "# Adding loans as a subset of patrons\n",
    "for item in loans_dict:\n",
    "    patron_id = item['patron_id']\n",
    "    for patron in patrons_dict:\n",
    "        if patron['patron_id'] == patron_id:\n",
    "            patron['loan_history'].append(item)\n",
    "            item.pop(\"loan_id\")\n",
    "            item.pop(\"book_id\")\n",
    "            item.pop('patron_id')\n",
    "            break\n",
    "\n",
    "\n",
    "# Getting rid of `patron_id` variable in patrons\n",
    "for item in patrons_dict:\n",
    "    item.pop('patron_id', None)\n",
    "\n",
    "patrons_dict[-4]\n"
   ]
  },
  {
   "cell_type": "code",
   "execution_count": 9,
   "id": "64f01144",
   "metadata": {},
   "outputs": [
    {
     "data": {
      "text/plain": [
       "InsertManyResult([ObjectId('683763f18efeb56de1ad4ae0'), ObjectId('683763f18efeb56de1ad4ae1'), ObjectId('683763f18efeb56de1ad4ae2'), ObjectId('683763f18efeb56de1ad4ae3'), ObjectId('683763f18efeb56de1ad4ae4'), ObjectId('683763f18efeb56de1ad4ae5'), ObjectId('683763f18efeb56de1ad4ae6'), ObjectId('683763f18efeb56de1ad4ae7'), ObjectId('683763f18efeb56de1ad4ae8'), ObjectId('683763f18efeb56de1ad4ae9'), ObjectId('683763f18efeb56de1ad4aea'), ObjectId('683763f18efeb56de1ad4aeb'), ObjectId('683763f18efeb56de1ad4aec'), ObjectId('683763f18efeb56de1ad4aed'), ObjectId('683763f18efeb56de1ad4aee'), ObjectId('683763f18efeb56de1ad4aef'), ObjectId('683763f18efeb56de1ad4af0'), ObjectId('683763f18efeb56de1ad4af1'), ObjectId('683763f18efeb56de1ad4af2'), ObjectId('683763f18efeb56de1ad4af3'), ObjectId('683763f18efeb56de1ad4af4'), ObjectId('683763f18efeb56de1ad4af5'), ObjectId('683763f18efeb56de1ad4af6'), ObjectId('683763f18efeb56de1ad4af7'), ObjectId('683763f18efeb56de1ad4af8'), ObjectId('683763f18efeb56de1ad4af9'), ObjectId('683763f18efeb56de1ad4afa'), ObjectId('683763f18efeb56de1ad4afb'), ObjectId('683763f18efeb56de1ad4afc'), ObjectId('683763f18efeb56de1ad4afd'), ObjectId('683763f18efeb56de1ad4afe'), ObjectId('683763f18efeb56de1ad4aff'), ObjectId('683763f18efeb56de1ad4b00')], acknowledged=True)"
      ]
     },
     "execution_count": 9,
     "metadata": {},
     "output_type": "execute_result"
    }
   ],
   "source": [
    "# PATRONS COLLECTION\n",
    "\n",
    "# Adding patron objects to MongoDB\n",
    "patrons = db.patrons\n",
    "patrons.insert_many(patrons_dict)\n",
    "\n",
    "# Delete current objects to repopulate if necessary\n",
    "# patrons.delete_many({})"
   ]
  },
  {
   "cell_type": "code",
   "execution_count": 11,
   "id": "88a8fe7e",
   "metadata": {},
   "outputs": [
    {
     "data": {
      "text/plain": [
       "InsertManyResult([ObjectId('683763fa8efeb56de1ad4b01'), ObjectId('683763fa8efeb56de1ad4b02'), ObjectId('683763fa8efeb56de1ad4b03'), ObjectId('683763fa8efeb56de1ad4b04'), ObjectId('683763fa8efeb56de1ad4b05'), ObjectId('683763fa8efeb56de1ad4b06'), ObjectId('683763fa8efeb56de1ad4b07'), ObjectId('683763fa8efeb56de1ad4b08'), ObjectId('683763fa8efeb56de1ad4b09'), ObjectId('683763fa8efeb56de1ad4b0a'), ObjectId('683763fa8efeb56de1ad4b0b'), ObjectId('683763fa8efeb56de1ad4b0c'), ObjectId('683763fa8efeb56de1ad4b0d'), ObjectId('683763fa8efeb56de1ad4b0e'), ObjectId('683763fa8efeb56de1ad4b0f'), ObjectId('683763fa8efeb56de1ad4b10'), ObjectId('683763fa8efeb56de1ad4b11'), ObjectId('683763fa8efeb56de1ad4b12'), ObjectId('683763fa8efeb56de1ad4b13'), ObjectId('683763fa8efeb56de1ad4b14'), ObjectId('683763fa8efeb56de1ad4b15'), ObjectId('683763fa8efeb56de1ad4b16'), ObjectId('683763fa8efeb56de1ad4b17'), ObjectId('683763fa8efeb56de1ad4b18'), ObjectId('683763fa8efeb56de1ad4b19'), ObjectId('683763fa8efeb56de1ad4b1a'), ObjectId('683763fa8efeb56de1ad4b1b'), ObjectId('683763fa8efeb56de1ad4b1c'), ObjectId('683763fa8efeb56de1ad4b1d'), ObjectId('683763fa8efeb56de1ad4b1e'), ObjectId('683763fa8efeb56de1ad4b1f'), ObjectId('683763fa8efeb56de1ad4b20'), ObjectId('683763fa8efeb56de1ad4b21'), ObjectId('683763fa8efeb56de1ad4b22'), ObjectId('683763fa8efeb56de1ad4b23'), ObjectId('683763fa8efeb56de1ad4b24'), ObjectId('683763fa8efeb56de1ad4b25'), ObjectId('683763fa8efeb56de1ad4b26'), ObjectId('683763fa8efeb56de1ad4b27'), ObjectId('683763fa8efeb56de1ad4b28'), ObjectId('683763fa8efeb56de1ad4b29'), ObjectId('683763fa8efeb56de1ad4b2a'), ObjectId('683763fa8efeb56de1ad4b2b'), ObjectId('683763fa8efeb56de1ad4b2c'), ObjectId('683763fa8efeb56de1ad4b2d'), ObjectId('683763fa8efeb56de1ad4b2e'), ObjectId('683763fa8efeb56de1ad4b2f'), ObjectId('683763fa8efeb56de1ad4b30'), ObjectId('683763fa8efeb56de1ad4b31'), ObjectId('683763fa8efeb56de1ad4b32'), ObjectId('683763fa8efeb56de1ad4b33'), ObjectId('683763fa8efeb56de1ad4b34'), ObjectId('683763fa8efeb56de1ad4b35'), ObjectId('683763fa8efeb56de1ad4b36'), ObjectId('683763fa8efeb56de1ad4b37'), ObjectId('683763fa8efeb56de1ad4b38'), ObjectId('683763fa8efeb56de1ad4b39'), ObjectId('683763fa8efeb56de1ad4b3a'), ObjectId('683763fa8efeb56de1ad4b3b'), ObjectId('683763fa8efeb56de1ad4b3c'), ObjectId('683763fa8efeb56de1ad4b3d'), ObjectId('683763fa8efeb56de1ad4b3e'), ObjectId('683763fa8efeb56de1ad4b3f')], acknowledged=True)"
      ]
     },
     "execution_count": 11,
     "metadata": {},
     "output_type": "execute_result"
    }
   ],
   "source": [
    "# BOOKS COLLECTION\n",
    "\n",
    "# Adding book objects to MongoDB\n",
    "books = db.books\n",
    "books.insert_many(inventory_dict)\n",
    "\n",
    "# Delete current objects to repopulate if necessary\n",
    "# books.delete_many({})"
   ]
  },
  {
   "cell_type": "code",
   "execution_count": 39,
   "id": "9dccc650",
   "metadata": {},
   "outputs": [
    {
     "name": "stdout",
     "output_type": "stream",
     "text": [
      "Patrons With the Highest Library Fees:\n",
      "Olivia Smith: $12.0\n",
      "Grace Clark: $6.75\n",
      "James Davis: $5.0\n",
      "Alexander Moore: $2.75\n",
      "Mia Hernandez: $2.5\n",
      "Sophia Miller: $2.25\n",
      "Noah Brown: $2.0\n"
     ]
    }
   ],
   "source": [
    "# Patrons with the highest library fees\n",
    "\n",
    "query1 = {'total_fees_owed': {'$gte': 2}}\n",
    "result = patrons.find(query1).sort('total_fees_owed', -1)\n",
    "\n",
    "print(\"Patrons With the Highest Library Fees:\")\n",
    "for e in result:\n",
    "    print(f\"{e['first_name']} {e['last_name']}\" + \":\", \"$\" + f\"{e['total_fees_owed']}\")\n"
   ]
  }
 ],
 "metadata": {
  "kernelspec": {
   "display_name": "base",
   "language": "python",
   "name": "python3"
  },
  "language_info": {
   "codemirror_mode": {
    "name": "ipython",
    "version": 3
   },
   "file_extension": ".py",
   "mimetype": "text/x-python",
   "name": "python",
   "nbconvert_exporter": "python",
   "pygments_lexer": "ipython3",
   "version": "3.12.7"
  }
 },
 "nbformat": 4,
 "nbformat_minor": 5
}
