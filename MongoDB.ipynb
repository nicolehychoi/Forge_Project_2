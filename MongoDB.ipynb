{
 "cells": [
  {
   "cell_type": "code",
   "execution_count": 2,
   "id": "a2afec9c",
   "metadata": {},
   "outputs": [],
   "source": [
    "import pymongo\n",
    "from pymongo import MongoClient\n",
    "import pandas as pd\n",
    "from dotenv import load_dotenv\n",
    "import os\n"
   ]
  },
  {
   "cell_type": "code",
   "execution_count": 3,
   "id": "c6a545fb",
   "metadata": {},
   "outputs": [],
   "source": [
    "load_dotenv(dotenv_path = \"password.env\") \n",
    "\n",
    "# MONGO_URI example: MONGO_URI=mongodb://localhost:27017/\n",
    "\n",
    "mongo_uri = os.getenv(\"mongo_uri\")\n",
    "mongo_database = os.getenv(\"mongo_database\")\n",
    "\n",
    "client = MongoClient(mongo_uri)\n",
    "\n",
    "db = client[mongo_database]"
   ]
  },
  {
   "cell_type": "code",
   "execution_count": 121,
   "id": "78482365",
   "metadata": {},
   "outputs": [
    {
     "data": {
      "text/plain": [
       "{'first_name': 'Chloe',\n",
       " 'last_name': 'Robinson',\n",
       " 'address': '305 Redwood Circle',\n",
       " 'phone_number': '101-010-1010',\n",
       " 'age': 29,\n",
       " 'loan_history': [{'loan_date': '2024-12-27',\n",
       "   'due_date': '2025-01-26',\n",
       "   'return_date': '2025-01-29',\n",
       "   'days_overdue': 3.0,\n",
       "   'book': {'isbn': '9780374528379',\n",
       "    'condition': 'Fair',\n",
       "    'title': 'Interpreter of Maladies',\n",
       "    'pub_year': 1999,\n",
       "    'genre': 'Short Stories',\n",
       "    'overdue_fee_rate': 0.25,\n",
       "    'author': {'author_id': 19,\n",
       "     'first_name': 'Jhumpa',\n",
       "     'last_name': 'Lahiri',\n",
       "     'nationality': 'Indian-American',\n",
       "     'language': 'English',\n",
       "     'birth_year': '1967',\n",
       "     'biography': \"Jhumpa Lahiri won the Pulitzer Prize for 'Interpreter of Maladies'.\"}}},\n",
       "  {'loan_date': '2025-05-22',\n",
       "   'due_date': '2025-06-21',\n",
       "   'return_date': nan,\n",
       "   'days_overdue': nan,\n",
       "   'book': {'isbn': '9780812981602',\n",
       "    'condition': 'Fair',\n",
       "    'title': 'The Vegetarian',\n",
       "    'pub_year': 2007,\n",
       "    'genre': 'Literary Fiction',\n",
       "    'overdue_fee_rate': 0.5,\n",
       "    'author': {'author_id': 29,\n",
       "     'first_name': 'Han',\n",
       "     'last_name': 'Kang',\n",
       "     'nationality': 'South Korean',\n",
       "     'language': 'Korean',\n",
       "     'birth_year': '1970',\n",
       "     'biography': \"Han Kang wrote 'The Vegetarian,' which won the Man Booker International Prize.\"}}}],\n",
       " 'total_fees_owed': 0.0}"
      ]
     },
     "execution_count": 121,
     "metadata": {},
     "output_type": "execute_result"
    }
   ],
   "source": [
    "# Loading in csv data\n",
    "patrons_data = pd.read_csv('patrons.csv')\n",
    "inventory = pd.read_csv('inventory.csv')\n",
    "books = pd.read_csv('books.csv')\n",
    "authors = pd.read_csv('authors.csv')\n",
    "loans = pd.read_csv('loans.csv')\n",
    "books['isbn'] = books['isbn'].astype(str)\n",
    "inventory['isbn'] = inventory['isbn'].astype(str)\n",
    "authors['author_id'] = authors['author_id'].astype('int64')\n",
    "books['author_id'] = books['author_id'].astype('int64')\n",
    "\n",
    "\n",
    "# Converting to dictionaries\n",
    "patrons_dict = patrons_data.to_dict('records')\n",
    "loans_dict = loans.to_dict('records')\n",
    "books_dict = books.to_dict('records')\n",
    "inventory_dict = inventory.to_dict('records')\n",
    "authors_dict = authors.to_dict('records')\n",
    "\n",
    "# Adding authors as a subset of books\n",
    "for item in books_dict:\n",
    "    item['author'] = {}\n",
    "for item in authors_dict:\n",
    "    author_id = item['author_id']\n",
    "    for book in books_dict:\n",
    "        if book['author_id'] == author_id:\n",
    "            book['author'] = item\n",
    "\n",
    "# Merging books' meta data with inventoried books\n",
    "for item in books_dict:\n",
    "    isbn = item['isbn']\n",
    "    for book in inventory_dict:\n",
    "        if book['isbn'] == isbn:\n",
    "            book['title'] = item['title']\n",
    "            book['pub_year'] = item['pub_year']\n",
    "            book['genre'] = item['genre']\n",
    "            book['overdue_fee_rate'] = item['overdue_fee_rate']\n",
    "            book['author'] = item['author']\n",
    "\n",
    "# Adding inventories books as a subset of loans\n",
    "for item in loans_dict:\n",
    "    item['book'] = {}\n",
    "for item in inventory_dict:\n",
    "    book_id = item['book_id']\n",
    "    for loan in loans_dict:\n",
    "        if loan['book_ID'] == book_id:\n",
    "            loan['book'] = item\n",
    "    item.pop('book_id')\n",
    "\n",
    "# Inserting total overdue fees per patron\n",
    "for patron in patrons_dict:\n",
    "    patron['loan_history'] = []\n",
    "    patron['total_fees_owed'] = 0\n",
    "    for item in loans_dict:\n",
    "        if pd.isna(days):\n",
    "            days = 0\n",
    "        rate = item['book']['overdue_fee_rate']\n",
    "        fee = rate * days\n",
    "        if item['patron_ID'] == patron['patron_id']:\n",
    "            patron['total_fees_owed'] += fee\n",
    "\n",
    "# Adding loans as a subset of patrons\n",
    "for item in loans_dict:\n",
    "    patron_id = item['patron_ID']\n",
    "    for patron in patrons_dict:\n",
    "        if patron['patron_id'] == patron_id:\n",
    "            patron['loan_history'].append(item)\n",
    "            item.pop(\"loan_ID\")\n",
    "            item.pop(\"book_ID\")\n",
    "            item.pop('patron_ID')\n",
    "            break\n",
    "\n",
    "\n",
    "# Getting rid of `patron_id` variable in patrons\n",
    "for item in patrons_dict:\n",
    "    item.pop('patron_id', None)\n",
    "\n",
    "patrons_dict[-4]\n"
   ]
  },
  {
   "cell_type": "code",
   "execution_count": 123,
   "id": "64f01144",
   "metadata": {},
   "outputs": [
    {
     "data": {
      "text/plain": [
       "InsertManyResult([ObjectId('683737a160f44cae1186ad6b'), ObjectId('683737a160f44cae1186ad6c'), ObjectId('683737a160f44cae1186ad6d'), ObjectId('683737a160f44cae1186ad6e'), ObjectId('683737a160f44cae1186ad6f'), ObjectId('683737a160f44cae1186ad70'), ObjectId('683737a160f44cae1186ad71'), ObjectId('683737a160f44cae1186ad72'), ObjectId('683737a160f44cae1186ad73'), ObjectId('683737a160f44cae1186ad74'), ObjectId('683737a160f44cae1186ad75'), ObjectId('683737a160f44cae1186ad76'), ObjectId('683737a160f44cae1186ad77'), ObjectId('683737a160f44cae1186ad78'), ObjectId('683737a160f44cae1186ad79'), ObjectId('683737a160f44cae1186ad7a'), ObjectId('683737a160f44cae1186ad7b'), ObjectId('683737a160f44cae1186ad7c'), ObjectId('683737a160f44cae1186ad7d'), ObjectId('683737a160f44cae1186ad7e'), ObjectId('683737a160f44cae1186ad7f'), ObjectId('683737a160f44cae1186ad80'), ObjectId('683737a160f44cae1186ad81'), ObjectId('683737a160f44cae1186ad82'), ObjectId('683737a160f44cae1186ad83'), ObjectId('683737a160f44cae1186ad84'), ObjectId('683737a160f44cae1186ad85'), ObjectId('683737a160f44cae1186ad86'), ObjectId('683737a160f44cae1186ad87'), ObjectId('683737a160f44cae1186ad88'), ObjectId('683737a160f44cae1186ad89'), ObjectId('683737a160f44cae1186ad8a'), ObjectId('683737a160f44cae1186ad8b')], acknowledged=True)"
      ]
     },
     "execution_count": 123,
     "metadata": {},
     "output_type": "execute_result"
    }
   ],
   "source": [
    "# PATRONS COLLECTION\n",
    "\n",
    "# Adding patron objects to MongoDB\n",
    "patrons = db.patrons\n",
    "patrons.insert_many(patrons_dict)\n",
    "\n",
    "# Delete current objects to repopulate if necessary\n",
    "# patrons.delete_many({})"
   ]
  },
  {
   "cell_type": "code",
   "execution_count": 84,
   "id": "88a8fe7e",
   "metadata": {},
   "outputs": [
    {
     "data": {
      "text/plain": [
       "InsertManyResult([ObjectId('6837320d60f44cae1186aca8'), ObjectId('6837320d60f44cae1186aca9'), ObjectId('6837320d60f44cae1186acaa'), ObjectId('6837320d60f44cae1186acab'), ObjectId('6837320d60f44cae1186acac'), ObjectId('6837320d60f44cae1186acad'), ObjectId('6837320d60f44cae1186acae'), ObjectId('6837320d60f44cae1186acaf'), ObjectId('6837320d60f44cae1186acb0'), ObjectId('6837320d60f44cae1186acb1'), ObjectId('6837320d60f44cae1186acb2'), ObjectId('6837320d60f44cae1186acb3'), ObjectId('6837320d60f44cae1186acb4'), ObjectId('6837320d60f44cae1186acb5'), ObjectId('6837320d60f44cae1186acb6'), ObjectId('6837320d60f44cae1186acb7'), ObjectId('6837320d60f44cae1186acb8'), ObjectId('6837320d60f44cae1186acb9'), ObjectId('6837320d60f44cae1186acba'), ObjectId('6837320d60f44cae1186acbb'), ObjectId('6837320d60f44cae1186acbc'), ObjectId('6837320d60f44cae1186acbd'), ObjectId('6837320d60f44cae1186acbe'), ObjectId('6837320d60f44cae1186acbf'), ObjectId('6837320d60f44cae1186acc0'), ObjectId('6837320d60f44cae1186acc1'), ObjectId('6837320d60f44cae1186acc2'), ObjectId('6837320d60f44cae1186acc3'), ObjectId('6837320d60f44cae1186acc4'), ObjectId('6837320d60f44cae1186acc5'), ObjectId('6837320d60f44cae1186acc6'), ObjectId('6837320d60f44cae1186acc7'), ObjectId('6837320d60f44cae1186acc8'), ObjectId('6837320d60f44cae1186acc9'), ObjectId('6837320d60f44cae1186acca'), ObjectId('6837320d60f44cae1186accb'), ObjectId('6837320d60f44cae1186accc'), ObjectId('6837320d60f44cae1186accd'), ObjectId('6837320d60f44cae1186acce'), ObjectId('6837320d60f44cae1186accf'), ObjectId('6837320d60f44cae1186acd0'), ObjectId('6837320d60f44cae1186acd1'), ObjectId('6837320d60f44cae1186acd2'), ObjectId('6837320d60f44cae1186acd3'), ObjectId('6837320d60f44cae1186acd4'), ObjectId('6837320d60f44cae1186acd5'), ObjectId('6837320d60f44cae1186acd6'), ObjectId('6837320d60f44cae1186acd7'), ObjectId('6837320d60f44cae1186acd8'), ObjectId('6837320d60f44cae1186acd9'), ObjectId('6837320d60f44cae1186acda'), ObjectId('6837320d60f44cae1186acdb'), ObjectId('6837320d60f44cae1186acdc'), ObjectId('6837320d60f44cae1186acdd'), ObjectId('6837320d60f44cae1186acde'), ObjectId('6837320d60f44cae1186acdf'), ObjectId('6837320d60f44cae1186ace0'), ObjectId('6837320d60f44cae1186ace1'), ObjectId('6837320d60f44cae1186ace2'), ObjectId('6837320d60f44cae1186ace3'), ObjectId('6837320d60f44cae1186ace4'), ObjectId('6837320d60f44cae1186ace5'), ObjectId('6837320d60f44cae1186ace6')], acknowledged=True)"
      ]
     },
     "execution_count": 84,
     "metadata": {},
     "output_type": "execute_result"
    }
   ],
   "source": [
    "# BOOKS COLLECTION\n",
    "\n",
    "# Adding book objects to MongoDB\n",
    "books = db.books\n",
    "books.insert_many(inventory_dict)\n",
    "\n",
    "# Delete current objects to repopulate if necessary\n",
    "# books.delete_many({})"
   ]
  }
 ],
 "metadata": {
  "kernelspec": {
   "display_name": "base",
   "language": "python",
   "name": "python3"
  },
  "language_info": {
   "codemirror_mode": {
    "name": "ipython",
    "version": 3
   },
   "file_extension": ".py",
   "mimetype": "text/x-python",
   "name": "python",
   "nbconvert_exporter": "python",
   "pygments_lexer": "ipython3",
   "version": "3.12.7"
  }
 },
 "nbformat": 4,
 "nbformat_minor": 5
}
